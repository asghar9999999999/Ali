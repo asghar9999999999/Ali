{
  "nbformat": 4,
  "nbformat_minor": 0,
  "metadata": {
    "colab": {
      "provenance": [],
      "authorship_tag": "ABX9TyOO1k0NzwGZ87jcknxmJ+bq",
      "include_colab_link": true
    },
    "kernelspec": {
      "name": "python3",
      "display_name": "Python 3"
    },
    "language_info": {
      "name": "python"
    }
  },
  "cells": [
    {
      "cell_type": "markdown",
      "metadata": {
        "id": "view-in-github",
        "colab_type": "text"
      },
      "source": [
        "<a href=\"https://colab.research.google.com/github/asghar9999999999/Ali/blob/main/Guess_the_Number_Game_(User_Picks)_in_Python.ipynb\" target=\"_parent\"><img src=\"https://colab.research.google.com/assets/colab-badge.svg\" alt=\"Open In Colab\"/></a>"
      ]
    },
    {
      "cell_type": "code",
      "execution_count": null,
      "metadata": {
        "id": "yQxnVVrhsozS"
      },
      "outputs": [],
      "source": []
    },
    {
      "cell_type": "markdown",
      "source": [
        "# Guess the Number Game (User Picks) in Python By **Ali Asghar**"
      ],
      "metadata": {
        "id": "gpCh7wMSspj3"
      }
    },
    {
      "cell_type": "code",
      "source": [
        "# Guess the Number Game (User Picks) in Python\n",
        "import random\n",
        "\n",
        "def computer_guesses_number():\n",
        "    print(\"Welcome to the Guess the Number Game: Computer Edition!\\n\")\n",
        "    print(\"Think of a number between 1 and 100, and I will try to guess it.\\n\")\n",
        "\n",
        "    low = 1\n",
        "    high = 100\n",
        "    attempts = 0\n",
        "\n",
        "    input(\"Press Enter when you're ready with your number...\")\n",
        "\n",
        "    while low <= high:\n",
        "        attempts += 1\n",
        "        guess = random.randint(low, high)\n",
        "        print(f\"I guess: {guess}\")\n",
        "\n",
        "        feedback = input(\"Is it correct (c), too high (h), or too low (l)? \").lower()\n",
        "\n",
        "        if feedback == \"c\":\n",
        "            print(f\"Hooray! I guessed your number {guess} correctly in {attempts} attempts!\")\n",
        "            break\n",
        "        elif feedback == \"h\":\n",
        "            high = guess - 1\n",
        "        elif feedback == \"l\":\n",
        "            low = guess + 1\n",
        "        else:\n",
        "            print(\"Invalid input! Please enter 'c' for correct, 'h' for too high, or 'l' for too low.\")\n",
        "\n",
        "    if low > high:\n",
        "        print(\"Hmm, something went wrong. Did you give me the right feedback?\")\n",
        "\n",
        "# Run the game\n",
        "if __name__ == \"__main__\":\n",
        "    computer_guesses_number()\n"
      ],
      "metadata": {
        "colab": {
          "base_uri": "https://localhost:8080/"
        },
        "id": "Bi_fQhMWs_L-",
        "outputId": "bc693a2e-7e36-4d40-b0fd-8b43bbd912a6"
      },
      "execution_count": null,
      "outputs": [
        {
          "output_type": "stream",
          "name": "stdout",
          "text": [
            "Welcome to the Guess the Number Game: Computer Edition!\n",
            "\n",
            "Think of a number between 1 and 100, and I will try to guess it.\n",
            "\n",
            "Press Enter when you're ready with your number...4\n",
            "I guess: 46\n",
            "Is it correct (c), too high (h), or too low (l)? l\n",
            "I guess: 69\n",
            "Is it correct (c), too high (h), or too low (l)? h\n",
            "I guess: 56\n",
            "Is it correct (c), too high (h), or too low (l)? l\n",
            "I guess: 62\n"
          ]
        }
      ]
    }
  ]
}