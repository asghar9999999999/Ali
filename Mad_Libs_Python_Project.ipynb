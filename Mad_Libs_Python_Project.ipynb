{
  "nbformat": 4,
  "nbformat_minor": 0,
  "metadata": {
    "colab": {
      "provenance": [],
      "authorship_tag": "ABX9TyOdlc6psMfidmyGq3J2/nwy",
      "include_colab_link": true
    },
    "kernelspec": {
      "name": "python3",
      "display_name": "Python 3"
    },
    "language_info": {
      "name": "python"
    }
  },
  "cells": [
    {
      "cell_type": "markdown",
      "metadata": {
        "id": "view-in-github",
        "colab_type": "text"
      },
      "source": [
        "<a href=\"https://colab.research.google.com/github/asghar9999999999/Ali/blob/main/Mad_Libs_Python_Project.ipynb\" target=\"_parent\"><img src=\"https://colab.research.google.com/assets/colab-badge.svg\" alt=\"Open In Colab\"/></a>"
      ]
    },
    {
      "cell_type": "markdown",
      "source": [
        "# **Mad Libs Python Project**"
      ],
      "metadata": {
        "id": "XsKdlns5b-PC"
      }
    },
    {
      "cell_type": "code",
      "source": [
        "# Mad Libs Game in Python\n",
        "\n",
        "def mad_libs():\n",
        "    print(\"Welcome to the Mad Libs Game: My Journey!\\n\")\n",
        "\n",
        "    # Collect words from the user\n",
        "    name = input(\"Enter your name: \")\n",
        "    institute = input(\"Enter your institute name: \")\n",
        "    starting_year = input(\"Enter the year you started your journey: \")\n",
        "    field_of_study = input(\"Enter your field of study: \")\n",
        "    goal = input(\"Enter your ultimate goal: \")\n",
        "    memorable_moment = input(\"Enter a memorable moment in your journey: \")\n",
        "    favorite_subject = input(\"Enter your favorite subject: \")\n",
        "    inspiration = input(\"Who or what inspires you the most?: \")\n",
        "\n",
        "    # Story template\n",
        "    story = (\n",
        "        f\"My name is {name}, and I am a proud student of {institute}. My journey began in {starting_year} when I decided to pursue \"\n",
        "        f\"{field_of_study}. From the very first day, I was determined to achieve my ultimate goal of {goal}.\\n\\n\"\n",
        "        f\"One of the most memorable moments during this journey was {memorable_moment}. It made me realize how much I enjoy learning, \"\n",
        "        f\"especially about {favorite_subject}. Through all the ups and downs, I have been consistently inspired by {inspiration}, \"\n",
        "        f\"which keeps me motivated to push forward.\\n\\n\"\n",
        "        f\"Looking back, I am grateful for every experience and lesson I have gained, and I look forward to achieving even greater \"\n",
        "        f\"milestones in the future.\"\n",
        "    )\n",
        "\n",
        "    print(\"\\nHere is your Mad Libs story:\\n\")\n",
        "    print(story)\n",
        "\n",
        "# Run the game\n",
        "if __name__ == \"__main__\":\n",
        "    mad_libs()\n"
      ],
      "metadata": {
        "colab": {
          "base_uri": "https://localhost:8080/"
        },
        "id": "6yxCwkDYdEOq",
        "outputId": "ee209965-d7d4-4918-a73d-9ba5f655fc05"
      },
      "execution_count": 2,
      "outputs": [
        {
          "output_type": "stream",
          "name": "stdout",
          "text": [
            "Welcome to the Mad Libs Game: My Journey!\n",
            "\n",
            "Enter your name: ali\n",
            "Enter your institute name: giaic\n",
            "Enter the year you started your journey: 2024\n",
            "Enter your field of study: python\n",
            "Enter your ultimate goal: full stack developer\n",
            "Enter a memorable moment in your journey: good\n",
            "Enter your favorite subject: python\n",
            "Who or what inspires you the most?: ai\n",
            "\n",
            "Here is your Mad Libs story:\n",
            "\n",
            "My name is ali, and I am a proud student of giaic. My journey began in 2024 when I decided to pursue python. From the very first day, I was determined to achieve my ultimate goal of full stack developer.\n",
            "\n",
            "One of the most memorable moments during this journey was good. It made me realize how much I enjoy learning, especially about python. Through all the ups and downs, I have been consistently inspired by ai, which keeps me motivated to push forward.\n",
            "\n",
            "Looking back, I am grateful for every experience and lesson I have gained, and I look forward to achieving even greater milestones in the future.\n"
          ]
        }
      ]
    }
  ]
}